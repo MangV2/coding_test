{
 "cells": [
  {
   "cell_type": "code",
   "execution_count": null,
   "id": "71eaf42b",
   "metadata": {},
   "outputs": [],
   "source": [
    "# https://school.programmers.co.kr/learn/courses/30/lessons/12931\n",
    "\n",
    "\"\"\"\n",
    "문제 설명\n",
    "자연수 N이 주어지면, N의 각 자릿수의 합을 구해서 return 하는 solution 함수를 만들어 주세요.\n",
    "예를들어 N = 123이면 1 + 2 + 3 = 6을 return 하면 됩니다.\n",
    "\n",
    "제한사항\n",
    "N의 범위 : 100,000,000 이하의 자연수\n",
    "\"\"\""
   ]
  },
  {
   "cell_type": "code",
   "execution_count": 8,
   "id": "6a30e825",
   "metadata": {},
   "outputs": [],
   "source": [
    "def solution(n):\n",
    "    answer = 0\n",
    "    num = str(n)\n",
    "    for i in range(len(num)):\n",
    "        answer += int(num[i])\n",
    "    print(answer)\n",
    "\n",
    "    return answer"
   ]
  },
  {
   "cell_type": "code",
   "execution_count": null,
   "id": "5ad281c9",
   "metadata": {},
   "outputs": [],
   "source": [
    "# 다른사람 풀이\n",
    "def sum_digit(number):\n",
    "    if number < 10:\n",
    "        return number\n",
    "\n",
    "    return number%10 + sum_digit(number//10)\n",
    "\n",
    "\n",
    "\n",
    "# 아래는 테스트로 출력해 보기 위한 코드입니다.\n",
    "print(\"결과 : {}\".format(sum_digit(123)));"
   ]
  },
  {
   "cell_type": "code",
   "execution_count": null,
   "id": "7ca11cde",
   "metadata": {},
   "outputs": [],
   "source": [
    "# 다른사람 풀이 2\n",
    "def sum_digit(number):\n",
    "    return sum(map(int, str(number)))\n",
    "\n",
    "# 아래는 테스트로 출력해 보기 위한 코드입니다.\n",
    "print(\"결과 : {}\".format(sum_digit(123)));\n"
   ]
  },
  {
   "cell_type": "code",
   "execution_count": null,
   "id": "3c6bb425",
   "metadata": {},
   "outputs": [],
   "source": [
    "# 코드르 좀 더 간결하게 작성 할 필요 있어보임"
   ]
  }
 ],
 "metadata": {
  "kernelspec": {
   "display_name": "base",
   "language": "python",
   "name": "python3"
  },
  "language_info": {
   "codemirror_mode": {
    "name": "ipython",
    "version": 3
   },
   "file_extension": ".py",
   "mimetype": "text/x-python",
   "name": "python",
   "nbconvert_exporter": "python",
   "pygments_lexer": "ipython3",
   "version": "3.12.7"
  }
 },
 "nbformat": 4,
 "nbformat_minor": 5
}
