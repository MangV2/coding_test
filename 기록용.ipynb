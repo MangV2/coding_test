{
 "cells": [
  {
   "cell_type": "code",
   "execution_count": null,
   "id": "71eaf42b",
   "metadata": {},
   "outputs": [],
   "source": [
    "# https://school.programmers.co.kr/learn/courses/30/lessons/\n",
    "# 택배 상자 꺼내기 lv1"
   ]
  },
  {
   "cell_type": "code",
   "execution_count": null,
   "id": "6a30e825",
   "metadata": {},
   "outputs": [],
   "source": []
  }
 ],
 "metadata": {
  "kernelspec": {
   "display_name": "base",
   "language": "python",
   "name": "python3"
  },
  "language_info": {
   "name": "python",
   "version": "3.12.7"
  }
 },
 "nbformat": 4,
 "nbformat_minor": 5
}
