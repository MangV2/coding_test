{
 "cells": [
  {
   "cell_type": "code",
   "execution_count": null,
   "id": "33c92b8d",
   "metadata": {
    "vscode": {
     "languageId": "sql"
    }
   },
   "outputs": [],
   "source": [
    "-- https://school.programmers.co.kr/learn/courses/30/lessons/164673\n",
    "SELECT  B.TITLE, B.BOARD_ID, R.REPLY_ID, R.WRITER_ID, R.CONTENTS, DATE_FORMAT(R.CREATED_DATE, '%Y-%m-%d') AS CRAETED_DATE\n",
    "  FROM  USED_GOODS_BOARD AS B\n",
    " INNER\n",
    "  JOIN  USED_GOODS_REPLY AS R\n",
    "    ON  B.BOARD_ID = R.BOARD_ID\n",
    " WHERE  SUBSTR(B.CREATED_DATE,1,7) = '2022-10'\n",
    " ORDER BY  R.CREATED_DATE ASC, B.TITLE ASC;"
   ]
  },
  {
   "cell_type": "code",
   "execution_count": null,
   "id": "8970005e",
   "metadata": {
    "vscode": {
     "languageId": "sql"
    }
   },
   "outputs": [],
   "source": [
    " -- https://school.programmers.co.kr/learn/courses/30/lessons/133025\n",
    "SELECT F.FLAVOR\n",
    "FROM FIRST_HALF F\n",
    "JOIN ICECREAM_INFO I\n",
    "  ON F.FLAVOR = I.FLAVOR\n",
    "WHERE F.TOTAL_ORDER > 3000\n",
    "  AND I.INGREDIENT_TYPE = 'fruit_based'\n",
    "ORDER BY F.TOTAL_ORDER DESC;\n"
   ]
  },
  {
   "cell_type": "code",
   "execution_count": null,
   "id": "8d5ddc43",
   "metadata": {
    "vscode": {
     "languageId": "sql"
    }
   },
   "outputs": [],
   "source": [
    "-- https://school.programmers.co.kr/learn/courses/30/lessons/132203\n",
    "SELECT DR_NAME, DR_ID, MCDP_CD, DATE_FORMAT(HIRE_YMD, '%Y-%m-%d') AS HIRE_YMD\n",
    "\n",
    "FROM DOCTOR\n",
    "WHERE MCDP_CD in('CS','GS')\n",
    "ORDER BY HIRE_YMD DESC, DR_NAME ASC"
   ]
  },
  {
   "cell_type": "code",
   "execution_count": null,
   "id": "fd9d8cf3",
   "metadata": {
    "vscode": {
     "languageId": "sql"
    }
   },
   "outputs": [],
   "source": [
    "-- https://school.programmers.co.kr/learn/courses/30/lessons/131536\n",
    "SELECT USER_ID,PRODUCT_ID\n",
    "FROM ONLINE_SALE \n",
    "GROUP BY USER_ID,PRODUCT_ID\n",
    "HAVING COUNT(*)>=2 \n",
    "ORDER BY USER_ID ASC , PRODUCT_ID DESC"
   ]
  },
  {
   "cell_type": "code",
   "execution_count": null,
   "id": "2ae87d56",
   "metadata": {
    "vscode": {
     "languageId": "sql"
    }
   },
   "outputs": [],
   "source": [
    "--https://school.programmers.co.kr/learn/courses/30/lessons/59035\n",
    "SELECT NAME,DATETIME\n",
    "FROM ANIMAL_INS \n",
    "ORDER BY ANIMAL_ID DESC"
   ]
  },
  {
   "cell_type": "code",
   "execution_count": null,
   "id": "15c4709e",
   "metadata": {
    "vscode": {
     "languageId": "sql"
    }
   },
   "outputs": [],
   "source": [
    "--https://school.programmers.co.kr/learn/courses/30/lessons/59036\n",
    "SELECT ANIMAL_ID,NAME\n",
    "FROM ANIMAL_INS \n",
    "WHERE INTAKE_CONDITION ='Sick'\n",
    "ORDER BY ANIMAL_ID "
   ]
  },
  {
   "cell_type": "code",
   "execution_count": null,
   "id": "49506fe9",
   "metadata": {
    "vscode": {
     "languageId": "sql"
    }
   },
   "outputs": [],
   "source": [
    "--https://school.programmers.co.kr/learn/courses/30/lessons/59037\n",
    "SELECT ANIMAL_ID,NAME\n",
    "FROM ANIMAL_INS\n",
    "WHERE NOT INTAKE_CONDITION ='Aged'\n",
    "ORDER BY ANIMAL_ID"
   ]
  },
  {
   "cell_type": "code",
   "execution_count": null,
   "id": "e130394d",
   "metadata": {
    "vscode": {
     "languageId": "sql"
    }
   },
   "outputs": [],
   "source": [
    "--https://school.programmers.co.kr/learn/courses/30/lessons/132201\n",
    "SELECT PT_NAME, PT_NO, GEND_CD, AGE, COALESCE(TLNO, 'NONE') AS TLNO\n",
    "FROM PATIENT \n",
    "WHERE AGE <= 12 and GEND_CD\t =\"W\"\n",
    "ORDER BY AGE DESC , PT_NAME ASC"
   ]
  },
  {
   "cell_type": "code",
   "execution_count": null,
   "id": "29f45c93",
   "metadata": {
    "vscode": {
     "languageId": "sql"
    }
   },
   "outputs": [],
   "source": [
    "--https://school.programmers.co.kr/learn/courses/30/lessons/131120\n",
    "SELECT MEMBER_ID, MEMBER_NAME, GENDER, DATE_FORMAT(DATE_OF_BIRTH, '%Y-%m-%d') AS DATE_OF_BIRTH\n",
    "FROM MEMBER_PROFILE\n",
    "WHERE GENDER = 'W'\n",
    "  AND MONTH(DATE_OF_BIRTH) = 3\n",
    "  AND TLNO IS NOT NULL\n",
    "ORDER BY MEMBER_ID ASC;\n",
    "\n",
    "----------------------------------------\n",
    "/*\n",
    "해당 문제에서 DATE_OF_BIRTH은 DATE 타입이라 DATE_OF_BIRTH LIKE '%-03-%' 이런방식은 권장하지 않음\n",
    "\n",
    "\n",
    "*/"
   ]
  }
 ],
 "metadata": {
  "language_info": {
   "name": "python"
  }
 },
 "nbformat": 4,
 "nbformat_minor": 5
}
