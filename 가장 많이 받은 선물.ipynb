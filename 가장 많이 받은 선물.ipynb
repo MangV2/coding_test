{
 "cells": [
  {
   "cell_type": "code",
   "execution_count": null,
   "id": "fda87648",
   "metadata": {},
   "outputs": [],
   "source": [
    "# https://school.programmers.co.kr/learn/courses/30/lessons/258712\n",
    "\n",
    "'''\n",
    "문제 설명\n",
    "선물을 직접 전하기 힘들 때 카카오톡 선물하기 기능을 이용해 축하 선물을 보낼 수 있습니다. 당신의 친구들이 이번 달까지 선물을 주고받은 기록을 바탕으로 다음 달에 누가 선물을 많이 받을지 예측하려고 합니다.\n",
    "\n",
    "두 사람이 선물을 주고받은 기록이 있다면, 이번 달까지 두 사람 사이에 더 많은 선물을 준 사람이 다음 달에 선물을 하나 받습니다.\n",
    "예를 들어 A가 B에게 선물을 5번 줬고, B가 A에게 선물을 3번 줬다면 다음 달엔 A가 B에게 선물을 하나 받습니다.\n",
    "두 사람이 선물을 주고받은 기록이 하나도 없거나 주고받은 수가 같다면, 선물 지수가 더 큰 사람이 선물 지수가 더 작은 사람에게 선물을 하나 받습니다.\n",
    "선물 지수는 이번 달까지 자신이 친구들에게 준 선물의 수에서 받은 선물의 수를 뺀 값입니다.\n",
    "예를 들어 A가 친구들에게 준 선물이 3개고 받은 선물이 10개라면 A의 선물 지수는 -7입니다. B가 친구들에게 준 선물이 3개고 받은 선물이 2개라면 B의 선물 지수는 1입니다. 만약 A와 B가 선물을 주고받은 적이 없거나 정확히 같은 수로 선물을 주고받았다면, 다음 달엔 B가 A에게 선물을 하나 받습니다.\n",
    "만약 두 사람의 선물 지수도 같다면 다음 달에 선물을 주고받지 않습니다.\n",
    "위에서 설명한 규칙대로 다음 달에 선물을 주고받을 때, 당신은 선물을 가장 많이 받을 친구가 받을 선물의 수를 알고 싶습니다.\n",
    "\n",
    "친구들의 이름을 담은 1차원 문자열 배열 friends 이번 달까지 친구들이 주고받은 선물 기록을 담은 1차원 문자열 배열 gifts가 매개변수로 주어집니다. 이때, 다음달에 가장 많은 선물을 받는 친구가 받을 선물의 수를 return 하도록 solution 함수를 완성해 주세요.\n",
    "'''"
   ]
  },
  {
   "cell_type": "code",
   "execution_count": 1,
   "id": "cd3c497d",
   "metadata": {},
   "outputs": [],
   "source": [
    "friends = [\"muzi\", \"ryan\", \"frodo\", \"neo\"]\n",
    "gifts = [\"muzi frodo\", \"muzi frodo\", \"ryan muzi\", \"ryan muzi\", \"ryan muzi\", \"frodo muzi\", \"frodo ryan\", \"neo muzi\"]"
   ]
  },
  {
   "cell_type": "code",
   "execution_count": null,
   "id": "c6339a1c",
   "metadata": {},
   "outputs": [],
   "source": [
    "pairs = [s.split() for s in gifts]\n",
    "\n",
    "# 친구 목록 만들기\n",
    "friends = set(friends)\n",
    "\n",
    "# 빈 매트릭스 생성\n",
    "matrix = {giver: {receiver: 0 for receiver in friends} for giver in friends}\n",
    "\n",
    "for giver, receiver in pairs:\n",
    "    matrix[giver][receiver] += 1\n",
    "\n",
    "#선물 지수\n",
    "for name in friends:\n",
    "    gived = (matrix[name].values())\n",
    "    received = sum(matrix[giver][name] for giver in matrix)\n",
    "    "
   ]
  },
  {
   "cell_type": "code",
   "execution_count": 12,
   "id": "1a390f0c",
   "metadata": {},
   "outputs": [
    {
     "data": {
      "text/plain": [
       "{'ryan': {'ryan': 0, 'frodo': 0, 'neo': 0, 'muzi': 3},\n",
       " 'frodo': {'ryan': 1, 'frodo': 0, 'neo': 0, 'muzi': 1},\n",
       " 'neo': {'ryan': 0, 'frodo': 0, 'neo': 0, 'muzi': 1},\n",
       " 'muzi': {'ryan': 0, 'frodo': 2, 'neo': 0, 'muzi': 0}}"
      ]
     },
     "execution_count": 12,
     "metadata": {},
     "output_type": "execute_result"
    }
   ],
   "source": [
    "matrix"
   ]
  },
  {
   "cell_type": "code",
   "execution_count": null,
   "id": "228398b5",
   "metadata": {},
   "outputs": [],
   "source": []
  },
  {
   "cell_type": "code",
   "execution_count": null,
   "id": "a8de5a81",
   "metadata": {},
   "outputs": [],
   "source": [
    "for name in friends:\n",
    "    gived = (matrix[name].values())\n",
    "    received = sum(matrix[giver][name] for giver in matrix)"
   ]
  },
  {
   "cell_type": "code",
   "execution_count": null,
   "id": "82ae3de0",
   "metadata": {},
   "outputs": [],
   "source": []
  }
 ],
 "metadata": {
  "kernelspec": {
   "display_name": "base",
   "language": "python",
   "name": "python3"
  },
  "language_info": {
   "codemirror_mode": {
    "name": "ipython",
    "version": 3
   },
   "file_extension": ".py",
   "mimetype": "text/x-python",
   "name": "python",
   "nbconvert_exporter": "python",
   "pygments_lexer": "ipython3",
   "version": "3.12.7"
  }
 },
 "nbformat": 4,
 "nbformat_minor": 5
}
