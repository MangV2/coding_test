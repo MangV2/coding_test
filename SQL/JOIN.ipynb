{
 "cells": [
  {
   "cell_type": "code",
   "execution_count": null,
   "id": "234f4f0b",
   "metadata": {
    "vscode": {
     "languageId": "sql"
    }
   },
   "outputs": [],
   "source": [
    "--https://school.programmers.co.kr/learn/courses/30/lessons/133027\n",
    "SELECT F.FLAVOR\n",
    "FROM FIRST_HALF F\n",
    "JOIN JULY J\n",
    "ON F.FLAVOR = J.FLAVOR\n",
    "GROUP BY FLAVOR\n",
    "ORDER BY SUM(F.TOTAL_ORDER) DESC\n",
    "LIMIT 3"
   ]
  },
  {
   "cell_type": "code",
   "execution_count": null,
   "id": "7e761f37",
   "metadata": {
    "vscode": {
     "languageId": "sql"
    }
   },
   "outputs": [],
   "source": [
    "--https://school.programmers.co.kr/learn/courses/30/lessons/157339\n",
    "SELECT \n",
    "    C.CAR_ID, \n",
    "    C.CAR_TYPE, \n",
    "    ROUND(C.DAILY_FEE * 30 * (100 - P.DISCOUNT_RATE) / 100) AS FEE\n",
    "FROM CAR_RENTAL_COMPANY_CAR AS C\n",
    "JOIN CAR_RENTAL_COMPANY_DISCOUNT_PLAN AS P \n",
    "    ON C.CAR_TYPE = P.CAR_TYPE\n",
    "WHERE C.CAR_ID NOT IN (\n",
    "    SELECT CAR_ID\n",
    "    FROM CAR_RENTAL_COMPANY_RENTAL_HISTORY\n",
    "    WHERE END_DATE > '2022-11-01' AND START_DATE < '2022-12-01'\n",
    ")\n",
    "AND P.DURATION_TYPE = '30일 이상'\n",
    "GROUP BY C.CAR_ID\n",
    "HAVING C.CAR_TYPE IN ('세단', 'SUV')\n",
    "   AND FEE BETWEEN 500000 AND 2000000\n",
    "ORDER BY FEE DESC, C.CAR_TYPE ASC, C.CAR_ID DESC;\n",
    "\n"
   ]
  },
  {
   "cell_type": "code",
   "execution_count": null,
   "id": "9c6ea389",
   "metadata": {
    "vscode": {
     "languageId": "sql"
    }
   },
   "outputs": [],
   "source": [
    "--https://school.programmers.co.kr/learn/courses/30/lessons/131117\n",
    "SELECT P.PRODUCT_ID,P.PRODUCT_NAME,SUM(AMOUNT)*P.PRICE AS TOTAL_SALES\n",
    "FROM FOOD_ORDER O\n",
    "JOIN FOOD_PRODUCT P\n",
    "ON O.PRODUCT_ID = P.PRODUCT_ID\n",
    "WHERE  YEAR(O.PRODUCE_DATE) = 2022 AND MONTH(O.PRODUCE_DATE) = 5\n",
    "GROUP BY (PRODUCT_ID)\n",
    "ORDER BY TOTAL_SALES DESC, O.PRODUCT_ID \n"
   ]
  },
  {
   "cell_type": "code",
   "execution_count": null,
   "id": "d101a35b",
   "metadata": {
    "vscode": {
     "languageId": "sql"
    }
   },
   "outputs": [],
   "source": [
    "--https://school.programmers.co.kr/learn/courses/30/lessons/144854\n",
    "SELECT B.BOOK_ID, A.AUTHOR_NAME,DATE_FORMAT(B.PUBLISHED_DATE, '%Y-%m-%d') AS PUBLISHED_DATE\n",
    "FROM BOOK B\n",
    "JOIN AUTHOR A\n",
    "ON B.AUTHOR_ID = A.AUTHOR_ID\n",
    "WHERE B.CATEGORY ='경제'\n",
    "ORDER BY B.PUBLISHED_DATE "
   ]
  },
  {
   "cell_type": "code",
   "execution_count": null,
   "id": "3001ee97",
   "metadata": {
    "vscode": {
     "languageId": "sql"
    }
   },
   "outputs": [],
   "source": [
    "--https://school.programmers.co.kr/learn/courses/30/lessons/131124\n",
    "SELECT M.MEMBER_NAME, R.REVIEW_TEXT, DATE_FORMAT(R.REVIEW_DATE, '%Y-%m-%d') AS REVIEW_DATE\n",
    "FROM REST_REVIEW R\n",
    "JOIN MEMBER_PROFILE M\n",
    "  ON R.MEMBER_ID = M.MEMBER_ID\n",
    "WHERE R.MEMBER_ID = (\n",
    "    SELECT MEMBER_ID\n",
    "    FROM REST_REVIEW \n",
    "    GROUP BY MEMBER_ID\n",
    "    ORDER BY COUNT(*) DESC\n",
    "    LIMIT 1\n",
    ")\n",
    "ORDER BY REVIEW_DATE,REVIEW_TEXT\t\n"
   ]
  },
  {
   "cell_type": "code",
   "execution_count": null,
   "id": "2d3fc55f",
   "metadata": {
    "vscode": {
     "languageId": "sql"
    }
   },
   "outputs": [],
   "source": [
    "--https://school.programmers.co.kr/learn/courses/30/lessons/59042\n",
    "SELECT ANIMAL_ID, NAME\n",
    "FROM ANIMAL_OUTS\n",
    "WHERE ANIMAL_ID NOT IN (\n",
    "    SELECT ANIMAL_ID\n",
    "    FROM ANIMAL_INS\n",
    ")\n",
    "ORDER BY ANIMAL_ID, NAME"
   ]
  },
  {
   "cell_type": "code",
   "execution_count": null,
   "id": "1ddda72e",
   "metadata": {
    "vscode": {
     "languageId": "sql"
    }
   },
   "outputs": [],
   "source": [
    "--https://school.programmers.co.kr/learn/courses/30/lessons/59043\n",
    "SELECT I.ANIMAL_ID, I.NAME\n",
    "FROM ANIMAL_INS I\n",
    "JOIN ANIMAL_OUTS O\n",
    "ON I.ANIMAL_ID = O.ANIMAL_ID\n",
    "WHERE I.DATETIME > O.DATETIME\n",
    "ORDER BY I.DATETIME"
   ]
  },
  {
   "cell_type": "code",
   "execution_count": null,
   "id": "9420d28b",
   "metadata": {
    "vscode": {
     "languageId": "sql"
    }
   },
   "outputs": [],
   "source": [
    "--https://school.programmers.co.kr/learn/courses/30/lessons/59044\n",
    "SELECT NAME,DATETIME\n",
    "FROM ANIMAL_INS\n",
    "WHERE ANIMAL_ID NOT IN (\n",
    "    SELECT ANIMAL_ID\n",
    "    FROM ANIMAL_OUTS\n",
    ")\n",
    "ORDER BY DATETIME \n",
    "LIMIT 3"
   ]
  },
  {
   "cell_type": "code",
   "execution_count": null,
   "id": "0ad03717",
   "metadata": {
    "vscode": {
     "languageId": "sql"
    }
   },
   "outputs": [],
   "source": [
    "--https://school.programmers.co.kr/learn/courses/30/lessons/59045 \n",
    "SELECT ANIMAL_ID,ANIMAL_TYPE,NAME\n",
    "FROM ANIMAL_INS\n",
    "WHERE SEX_UPON_INTAKE NOT IN ('Neutered Male', 'Spayed Female')\n",
    "  AND ANIMAL_ID IN (\n",
    "    SELECT ANIMAL_ID\n",
    "    FROM ANIMAL_OUTS\n",
    "    WHERE SEX_UPON_OUTCOME IN ('Neutered Male', 'Spayed Female')\n",
    ")\n",
    "ORDER BY ANIMAL_ID\n"
   ]
  },
  {
   "cell_type": "code",
   "execution_count": null,
   "id": "f4cb19c4",
   "metadata": {
    "vscode": {
     "languageId": "sql"
    }
   },
   "outputs": [],
   "source": [
    "--https://school.programmers.co.kr/learn/courses/30/lessons/131533\n",
    "SELECT P.PRODUCT_CODE,SUM(P.PRICE*O.sales_amount) AS SALES\n",
    "FROM OFFLINE_SALE O\n",
    "JOIN PRODUCT P\n",
    "ON O.PRODUCT_ID = P.PRODUCT_ID\n",
    "GROUP BY PRODUCT_CODE\n",
    "ORDER BY SALES DESC , P.PRODUCT_CODE"
   ]
  },
  {
   "cell_type": "code",
   "execution_count": null,
   "id": "5ee2c99c",
   "metadata": {
    "vscode": {
     "languageId": "sql"
    }
   },
   "outputs": [],
   "source": [
    "--https://school.programmers.co.kr/learn/courses/30/lessons/131534\n",
    "SELECT \n",
    "    YEAR(sales_date) AS YEAR ,\n",
    "    MONTH(sales_date) AS MONTH, \n",
    "    COUNT(DISTINCT S.USER_ID) AS PURCHASED_USERS,\n",
    "    ROUND(\n",
    "    COUNT(DISTINCT I.USER_ID)*1.0 /\n",
    "        (SELECT COUNT(USER_ID)\n",
    "        FROM USER_INFO \n",
    "        WHERE YEAR(JOINED) = 2021),1\n",
    "        ) AS PUCHASED_RATIO\n",
    "    \n",
    "FROM ONLINE_SALE S\n",
    "JOIN USER_INFO I\n",
    "ON S.USER_ID = I.USER_ID\n",
    "WHERE YEAR(JOINED) = 2021\n",
    "GROUP BY MONTH\n",
    "ORDER BY YEAR ,MONTH "
   ]
  }
 ],
 "metadata": {
  "language_info": {
   "name": "python"
  }
 },
 "nbformat": 4,
 "nbformat_minor": 5
}
